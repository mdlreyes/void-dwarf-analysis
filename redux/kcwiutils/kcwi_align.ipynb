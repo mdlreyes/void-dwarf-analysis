{
 "cells": [
  {
   "cell_type": "code",
   "execution_count": 1,
   "metadata": {
    "collapsed": false
   },
   "outputs": [],
   "source": [
    "import os\n",
    "import numpy as np\n",
    "import glob\n",
    "import sys\n",
    "import kcwi_old as kcwi\n",
    "import pdb\n",
    "import importlib\n",
    "\n",
    "%reload_ext autoreload\n",
    "%autoreload\n",
    "%matplotlib inline\n",
    "\n",
    "from astropy.utils import iers\n",
    "iers.Conf.iers_auto_url.set('ftp://cddis.gsfc.nasa.gov/pub/products/iers/finals2000A.all')\n",
    "\n",
    "#importlib.reload(kcwi)"
   ]
  },
  {
   "cell_type": "code",
   "execution_count": 2,
   "metadata": {
    "collapsed": true
   },
   "outputs": [],
   "source": [
    "fn='reines65test.list'"
   ]
  },
  {
   "cell_type": "code",
   "execution_count": null,
   "metadata": {
    "collapsed": false,
    "scrolled": true
   },
   "outputs": [],
   "source": [
    "kcwi.kcwi_align(fn,noalign=True)"
   ]
  },
  {
   "cell_type": "code",
   "execution_count": null,
   "metadata": {
    "collapsed": false,
    "scrolled": true
   },
   "outputs": [],
   "source": [
    "kcwi.kcwi_align(fn)"
   ]
  },
  {
   "cell_type": "code",
   "execution_count": 3,
   "metadata": {
    "collapsed": false,
    "scrolled": false
   },
   "outputs": [
    {
     "name": "stdout",
     "output_type": "stream",
     "text": [
      "Projecting...\n",
      "kb200122_00079_icubes.fits\n",
      "     Vcorr = -28.039704836744548 km / s\n",
      "     EXPTIME = 600.0\n"
     ]
    },
    {
     "name": "stderr",
     "output_type": "stream",
     "text": [
      "\r",
      "  0%|          | 0/100 [00:00<?, ?it/s]"
     ]
    },
    {
     "name": "stdout",
     "output_type": "stream",
     "text": [
      "Stacking...\n"
     ]
    },
    {
     "name": "stderr",
     "output_type": "stream",
     "text": [
      "/raid/madlr/software/yuguangcode/py/kcwi_old.py:924: RuntimeWarning: divide by zero encountered in true_divide\n",
      "  data_3d[ii,:,:]=np.transpose(np.nansum(img*weight,axis=0)/np.nansum(weight,axis=0))\n",
      "/raid/madlr/software/yuguangcode/py/kcwi_old.py:924: RuntimeWarning: invalid value encountered in true_divide\n",
      "  data_3d[ii,:,:]=np.transpose(np.nansum(img*weight,axis=0)/np.nansum(weight,axis=0))\n",
      "/raid/madlr/software/yuguangcode/py/kcwi_old.py:925: RuntimeWarning: divide by zero encountered in true_divide\n",
      "  vdata_3d[ii,:,:]=np.transpose(np.nansum(weight**2*var,axis=0)/np.nansum(weight,axis=0)**2)\n",
      "/raid/madlr/software/yuguangcode/py/kcwi_old.py:925: RuntimeWarning: invalid value encountered in true_divide\n",
      "  vdata_3d[ii,:,:]=np.transpose(np.nansum(weight**2*var,axis=0)/np.nansum(weight,axis=0)**2)\n",
      "100%|██████████| 100/100 [00:02<00:00, 49.89it/s]\n"
     ]
    }
   ],
   "source": [
    "kcwi.kcwi_stack(fn, drizzle=1., overwrite=True)"
   ]
  },
  {
   "cell_type": "code",
   "execution_count": null,
   "metadata": {
    "collapsed": false,
    "scrolled": false
   },
   "outputs": [],
   "source": [
    "kcwi.kcwi_astrometry('reines65.list')"
   ]
  },
  {
   "cell_type": "code",
   "execution_count": null,
   "metadata": {
    "collapsed": false
   },
   "outputs": [],
   "source": [
    "from astropy.io import fits\n",
    "from astropy.wcs import WCS\n",
    "\n",
    "from matplotlib import pyplot as plt"
   ]
  },
  {
   "cell_type": "code",
   "execution_count": null,
   "metadata": {
    "collapsed": false,
    "scrolled": false
   },
   "outputs": [],
   "source": [
    "hdu_stack=fits.open('reines65_icubes.fits')[0]\n",
    "spec_stack=hdu_stack.data[:,41,39]\n",
    "sz=hdu_stack.shape\n",
    "\n",
    "hdu_var_stack=fits.open('reines65_vcubes.fits')[0]\n",
    "spec_var_stack=hdu_var_stack.data[:,41,39]\n",
    "\n",
    "wcs_stack=WCS(hdu_stack.header)\n",
    "_,_,wave_stack=wcs_stack.all_pix2world(np.zeros(sz[0]),np.zeros(sz[0]),np.arange(sz[0]),0)\n",
    "wave_stack=wave_stack*1e10\n",
    "\n",
    "plt.plot(wave_stack,spec_stack)\n",
    "plt.plot(wave_stack,np.sqrt(spec_var_stack))\n"
   ]
  },
  {
   "cell_type": "code",
   "execution_count": null,
   "metadata": {
    "collapsed": true
   },
   "outputs": [],
   "source": []
  }
 ],
 "metadata": {
  "anaconda-cloud": {},
  "kernelspec": {
   "display_name": "Python [conda env:kcwi_align]",
   "language": "python",
   "name": "conda-env-kcwi_align-py"
  },
  "language_info": {
   "codemirror_mode": {
    "name": "ipython",
    "version": 3
   },
   "file_extension": ".py",
   "mimetype": "text/x-python",
   "name": "python",
   "nbconvert_exporter": "python",
   "pygments_lexer": "ipython3",
   "version": "3.6.8"
  }
 },
 "nbformat": 4,
 "nbformat_minor": 1
}
